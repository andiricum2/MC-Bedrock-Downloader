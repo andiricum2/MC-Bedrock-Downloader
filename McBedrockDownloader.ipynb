{
  "nbformat": 4,
  "nbformat_minor": 0,
  "metadata": {
    "colab": {
      "provenance": [],
      "authorship_tag": "ABX9TyN2Rk7rGYQqYBBiY3dp673p"
    },
    "kernelspec": {
      "name": "python3",
      "display_name": "Python 3"
    },
    "language_info": {
      "name": "python"
    }
  },
  "cells": [
    {
      "cell_type": "code",
      "source": [
        "pip install bs4"
      ],
      "metadata": {
        "colab": {
          "base_uri": "https://localhost:8080/"
        },
        "id": "mRMGB4xkKbio",
        "outputId": "6bab6f28-016d-462d-c79a-4106abf15fc3"
      },
      "execution_count": 19,
      "outputs": [
        {
          "output_type": "stream",
          "name": "stdout",
          "text": [
            "Traceback (most recent call last):\n",
            "  File \"/usr/local/lib/python3.9/dist-packages/pip/_vendor/packaging/version.py\", line 49, in parse\n",
            "    return Version(version)\n",
            "  File \"/usr/local/lib/python3.9/dist-packages/pip/_vendor/packaging/version.py\", line 266, in __init__\n",
            "    raise InvalidVersion(f\"Invalid version: '{version}'\")\n",
            "pip._vendor.packaging.version.InvalidVersion: Invalid version: '.dist-info'\n",
            "\n",
            "During handling of the above exception, another exception occurred:\n",
            "\n",
            "Traceback (most recent call last):\n",
            "  File \"/usr/local/lib/python3.9/dist-packages/pip/_internal/cli/base_command.py\", line 160, in exc_logging_wrapper\n",
            "    status = run_func(*args)\n",
            "  File \"/usr/local/lib/python3.9/dist-packages/pip/_internal/cli/req_command.py\", line 241, in wrapper\n",
            "    return func(self, options, args)\n",
            "  File \"/usr/local/lib/python3.9/dist-packages/pip/_internal/commands/install.py\", line 345, in run\n",
            "    session = self.get_default_session(options)\n",
            "  File \"/usr/local/lib/python3.9/dist-packages/pip/_internal/cli/req_command.py\", line 98, in get_default_session\n",
            "    self._session = self.enter_context(self._build_session(options))\n",
            "  File \"/usr/local/lib/python3.9/dist-packages/pip/_internal/cli/req_command.py\", line 125, in _build_session\n",
            "    session = PipSession(\n",
            "  File \"/usr/local/lib/python3.9/dist-packages/pip/_internal/network/session.py\", line 343, in __init__\n",
            "    self.headers[\"User-Agent\"] = user_agent()\n",
            "  File \"/usr/local/lib/python3.9/dist-packages/pip/_internal/network/session.py\", line 175, in user_agent\n",
            "    setuptools_dist = get_default_environment().get_distribution(\"setuptools\")\n",
            "  File \"/usr/local/lib/python3.9/dist-packages/pip/_internal/metadata/__init__.py\", line 75, in get_default_environment\n",
            "    return select_backend().Environment.default()\n",
            "  File \"/usr/local/lib/python3.9/dist-packages/pip/_internal/metadata/__init__.py\", line 63, in select_backend\n",
            "    from . import pkg_resources\n",
            "  File \"/usr/local/lib/python3.9/dist-packages/pip/_internal/metadata/pkg_resources.py\", line 8, in <module>\n",
            "    from pip._vendor import pkg_resources\n",
            "  File \"/usr/local/lib/python3.9/dist-packages/pip/_vendor/pkg_resources/__init__.py\", line 3252, in <module>\n",
            "    def _initialize_master_working_set():\n",
            "  File \"/usr/local/lib/python3.9/dist-packages/pip/_vendor/pkg_resources/__init__.py\", line 3235, in _call_aside\n",
            "    f(*args, **kwargs)\n",
            "  File \"/usr/local/lib/python3.9/dist-packages/pip/_vendor/pkg_resources/__init__.py\", line 3287, in _initialize_master_working_set\n",
            "    list(map(working_set.add_entry, sys.path))\n",
            "  File \"/usr/local/lib/python3.9/dist-packages/pip/_vendor/pkg_resources/__init__.py\", line 623, in add_entry\n",
            "    for dist in find_distributions(entry, True):\n",
            "  File \"/usr/local/lib/python3.9/dist-packages/pip/_vendor/pkg_resources/__init__.py\", line 2061, in find_on_path\n",
            "    path_item_entries = _by_version_descending(filtered)\n",
            "  File \"/usr/local/lib/python3.9/dist-packages/pip/_vendor/pkg_resources/__init__.py\", line 2034, in _by_version_descending\n",
            "    return sorted(names, key=_by_version, reverse=True)\n",
            "  File \"/usr/local/lib/python3.9/dist-packages/pip/_vendor/pkg_resources/__init__.py\", line 2032, in _by_version\n",
            "    return [packaging.version.parse(part) for part in parts]\n",
            "  File \"/usr/local/lib/python3.9/dist-packages/pip/_vendor/pkg_resources/__init__.py\", line 2032, in <listcomp>\n",
            "    return [packaging.version.parse(part) for part in parts]\n",
            "  File \"/usr/local/lib/python3.9/dist-packages/pip/_vendor/packaging/version.py\", line 51, in parse\n",
            "    return LegacyVersion(version)\n",
            "  File \"/usr/local/lib/python3.9/dist-packages/pip/_vendor/packaging/version.py\", line 109, in __init__\n",
            "    self._key = _legacy_cmpkey(self._version)\n",
            "  File \"/usr/local/lib/python3.9/dist-packages/pip/_vendor/packaging/version.py\", line 215, in _legacy_cmpkey\n",
            "    while parts and parts[-1] == \"00000000\":\n",
            "KeyboardInterrupt\n",
            "\n",
            "During handling of the above exception, another exception occurred:\n",
            "\n",
            "Traceback (most recent call last):\n",
            "  File \"/usr/local/bin/pip3\", line 8, in <module>\n",
            "    sys.exit(main())\n",
            "  File \"/usr/local/lib/python3.9/dist-packages/pip/_internal/cli/main.py\", line 70, in main\n",
            "    return command.main(cmd_args)\n",
            "  File \"/usr/local/lib/python3.9/dist-packages/pip/_internal/cli/base_command.py\", line 101, in main\n",
            "    return self._main(args)\n",
            "  File \"/usr/local/lib/python3.9/dist-packages/pip/_internal/cli/base_command.py\", line 214, in _main\n",
            "    return run(options, args)\n",
            "  File \"/usr/local/lib/python3.9/dist-packages/pip/_internal/cli/base_command.py\", line 197, in exc_logging_wrapper\n",
            "    logger.critical(\"Operation cancelled by user\")\n",
            "  File \"/usr/lib/python3.9/logging/__init__.py\", line 1493, in critical\n",
            "    self._log(CRITICAL, msg, args, **kwargs)\n",
            "  File \"/usr/lib/python3.9/logging/__init__.py\", line 1589, in _log\n",
            "    self.handle(record)\n",
            "  File \"/usr/lib/python3.9/logging/__init__.py\", line 1599, in handle\n",
            "    self.callHandlers(record)\n",
            "  File \"/usr/lib/python3.9/logging/__init__.py\", line 1661, in callHandlers\n",
            "    hdlr.handle(record)\n",
            "  File \"/usr/lib/python3.9/logging/__init__.py\", line 952, in handle\n",
            "    self.emit(record)\n",
            "  File \"/usr/local/lib/python3.9/dist-packages/pip/_internal/utils/logging.py\", line 177, in emit\n",
            "    self.console.print(renderable, overflow=\"ignore\", crop=False, style=style)\n",
            "  File \"/usr/local/lib/python3.9/dist-packages/pip/_vendor/rich/console.py\", line 1668, in print\n",
            "    renderables = self._collect_renderables(\n",
            "  File \"/usr/local/lib/python3.9/dist-packages/pip/_vendor/rich/console.py\", line 1547, in _collect_renderables\n",
            "    check_text()\n",
            "  File \"/usr/local/lib/python3.9/dist-packages/pip/_vendor/rich/console.py\", line 1525, in check_text\n",
            "    append(sep_text.join(text))\n",
            "  File \"/usr/local/lib/python3.9/dist-packages/pip/_vendor/rich/text.py\", line 752, in join\n",
            "    def iter_text() -> Iterable[\"Text\"]:\n",
            "  File \"/usr/lib/python3.9/typing.py\", line 274, in inner\n",
            "    return cached(*args, **kwds)\n",
            "KeyboardInterrupt\n",
            "^C\n"
          ]
        }
      ]
    },
    {
      "cell_type": "code",
      "source": [
        "pip install tqdm"
      ],
      "metadata": {
        "id": "DGxmdOLiK7h7",
        "colab": {
          "base_uri": "https://localhost:8080/"
        },
        "outputId": "f4a4610d-2a07-45d2-fe79-edb192d617d9"
      },
      "execution_count": 20,
      "outputs": [
        {
          "output_type": "stream",
          "name": "stdout",
          "text": [
            "Looking in indexes: https://pypi.org/simple, https://us-python.pkg.dev/colab-wheels/public/simple/\n",
            "Requirement already satisfied: tqdm in /usr/local/lib/python3.9/dist-packages (4.65.0)\n"
          ]
        }
      ]
    },
    {
      "cell_type": "code",
      "source": [
        "pip install requests"
      ],
      "metadata": {
        "colab": {
          "base_uri": "https://localhost:8080/"
        },
        "id": "oAKEEUCSLFZJ",
        "outputId": "0a51f45b-d396-4efc-93a8-5e2d0d59a438"
      },
      "execution_count": 21,
      "outputs": [
        {
          "output_type": "stream",
          "name": "stdout",
          "text": [
            "Looking in indexes: https://pypi.org/simple, https://us-python.pkg.dev/colab-wheels/public/simple/\n",
            "Requirement already satisfied: requests in /usr/local/lib/python3.9/dist-packages (2.27.1)\n",
            "Requirement already satisfied: idna<4,>=2.5 in /usr/local/lib/python3.9/dist-packages (from requests) (3.4)\n",
            "Requirement already satisfied: charset-normalizer~=2.0.0 in /usr/local/lib/python3.9/dist-packages (from requests) (2.0.12)\n",
            "Requirement already satisfied: urllib3<1.27,>=1.21.1 in /usr/local/lib/python3.9/dist-packages (from requests) (1.26.15)\n",
            "Requirement already satisfied: certifi>=2017.4.17 in /usr/local/lib/python3.9/dist-packages (from requests) (2022.12.7)\n"
          ]
        }
      ]
    },
    {
      "cell_type": "code",
      "source": [
        "import concurrent.futures\n",
        "import requests\n",
        "from bs4 import BeautifulSoup\n",
        "import tqdm\n",
        "\n",
        "url = \"https://mcpedl.org/post-sitemap.xml\"\n",
        "res = requests.get(url)\n",
        "soup = BeautifulSoup(res.content, 'xml')\n",
        "\n",
        "versions = []\n",
        "for url in soup.find_all('url'):\n",
        "    loc = url.find('loc').text\n",
        "    if loc.startswith(\"https://mcpedl.org/minecraft-pe-\"):\n",
        "        version = loc.split(\"https://mcpedl.org/minecraft-pe-\")[1].split(\"/\")[0]\n",
        "        if \"-apk\" in version:\n",
        "            version = version.split(\"-apk\")[0]\n",
        "        versions.append(version)\n",
        "\n",
        "sorted_versions = sorted(versions, key=lambda x: [int(y) for y in x.split('-') if y.isdigit()])\n",
        "\n",
        "downloadable_versions = []\n",
        "\n",
        "def check_version(url):\n",
        "    version = url.find('loc').text.split(\"https://mcpedl.org/minecraft-pe-\")[1].split(\"/\")[0]\n",
        "    if \"-apk\" in version:\n",
        "        version = version.split(\"-apk\")[0]\n",
        "    version_elegida = version.replace('-', '.')\n",
        "    lastmod = url.find('lastmod').text.strip()[:10]\n",
        "    fecha = '-'.join(reversed(lastmod.split('-')))\n",
        "    url_final = f\"https://mcpedl.org/uploads_files/{fecha}/minecraft-{version}.apk\"\n",
        "    response = requests.get(url_final, stream=True)\n",
        "    if response.status_code == 200:\n",
        "        content_length = response.headers.get(\"Content-Length\")\n",
        "        if content_length and int(content_length) > 1000:\n",
        "            response.close()\n",
        "            soup = BeautifulSoup(response.content, 'html.parser')\n",
        "            if soup.title == \"404 Not Found\" in soup.title.string:\n",
        "                response.close()\n",
        "                return None\n",
        "            else:\n",
        "                version_parts = version_elegida.split('.')\n",
        "                # pad version parts with leading zeros to ensure numerical sorting\n",
        "                version_parts = [part.zfill(3) for part in version_parts]\n",
        "                # join version parts back into a single string\n",
        "                version_sort_key = ''.join(version_parts)\n",
        "                return version_sort_key, version_elegida\n",
        "        else:\n",
        "            response.close()\n",
        "            return None\n",
        "    else:\n",
        "        response.close()\n",
        "        return None\n",
        "\n",
        "with concurrent.futures.ThreadPoolExecutor(max_workers=50) as executor:\n",
        "    futures = [executor.submit(check_version, url) for url in soup.find_all('url') if url.find('loc').text.startswith(\"https://mcpedl.org/minecraft-pe-\")]\n",
        "    for future in tqdm.tqdm(concurrent.futures.as_completed(futures), total=len(futures)):\n",
        "        result = future.result()\n",
        "        if result:\n",
        "            version_sort_key, version_elegida = result\n",
        "            downloadable_versions.append(version_elegida)\n",
        "\n",
        "    # sort the versions numerically\n",
        "    downloadable_versions = sorted(downloadable_versions, key=lambda v: [int(part) for part in v.split('.')])\n",
        "    \n",
        "    print(downloadable_versions)\n",
        "\n",
        "\n",
        "version_elegida = input(\"\\nEscribe la versión que deseas descargar (en el formato 1.2.3): \")\n",
        "if version_elegida == \"\":\n",
        "    # select the latest version available\n",
        "    downloadable_versions.sort(reverse=True)\n",
        "    version_elegida = downloadable_versions[0].replace('-', '.')\n",
        "else:\n",
        "    # check if the version entered by the user is available\n",
        "    if version_elegida not in downloadable_versions:\n",
        "        print(f\"La versión {version_elegida} no está disponible para descargar.\")\n",
        "        exit()\n",
        "    version_elegida = version_elegida.replace('.', '-')\n",
        "\n",
        "# find the URL for the selected version\n",
        "for url in soup.find_all('url'):\n",
        "    loc = url.find('loc').text\n",
        "    if loc.startswith(f\"https://mcpedl.org/minecraft-pe-{version_elegida}\"):\n",
        "        lastmod = url.find('lastmod').text.strip()[:10]\n",
        "        fecha = '-'.join(reversed(lastmod.split('-')))\n",
        "        url_final = f\"https://mcpedl.org/uploads_files/{fecha}/minecraft-{version_elegida}.apk\"\n",
        "        print(f\"\\nLa URL final es: {url_final}\")\n",
        "        break"
      ],
      "metadata": {
        "colab": {
          "base_uri": "https://localhost:8080/"
        },
        "id": "EjDPB98cKxWA",
        "outputId": "82b5fe3a-cccb-4d79-92b1-829a35530770"
      },
      "execution_count": 26,
      "outputs": [
        {
          "output_type": "stream",
          "name": "stderr",
          "text": [
            "100%|██████████| 399/399 [00:09<00:00, 42.08it/s]\n"
          ]
        },
        {
          "output_type": "stream",
          "name": "stdout",
          "text": [
            "['1.4.0', '1.4.1', '1.4.2', '1.16.0.67', '1.16.20.50', '1.16.20.53', '1.16.100.54', '1.16.100.55', '1.16.100.56', '1.16.100.57', '1.16.201', '1.16.210.51', '1.16.210.54', '1.16.210.55', '1.16.210.56', '1.16.210.57', '1.16.210.60', '1.16.210.61', '1.16.220.50', '1.16.220.51', '1.16.230.52', '1.16.230.54', '1.16.230.56', '1.17.0.50', '1.17.10', '1.17.11', '1.17.30', '1.17.30.21', '1.17.30.22', '1.17.30.23', '1.17.30.24', '1.17.30.25', '1.17.32', '1.17.34', '1.17.40.21', '1.17.40.23', '1.17.41', '1.18.0', '1.18.0.21', '1.18.0.24', '1.18.0.25', '1.18.0.27', '1.18.2', '1.18.10', '1.18.10.20', '1.18.10.21', '1.18.10.22', '1.18.10.27', '1.18.12', '1.18.20.27', '1.18.30', '1.18.30.32', '1.18.31', '1.18.32', '1.19.0', '1.19.0.20', '1.19.0.24', '1.19.0.26', '1.19.0.28', '1.19.0.30', '1.19.0.32', '1.19.0.34', '1.19.2', '1.19.10', '1.19.10.22', '1.19.10.23', '1.19.10.24', '1.19.20', '1.19.20.20', '1.19.20.23', '1.19.21', '1.19.22', '1.19.30.21', '1.19.30.22', '1.19.30.23', '1.19.30.25', '1.19.31', '1.19.40', '1.19.40.20', '1.19.40.21', '1.19.40.22', '1.19.40.23', '1.19.40.24', '1.19.41', '1.19.50.20', '1.19.50.21', '1.19.50.22', '1.19.50.23', '1.19.60', '1.19.60.20', '1.19.60.25', '1.19.60.26', '1.19.62', '1.19.70', '1.19.70.20', '1.19.70.21', '1.19.70.22', '1.19.70.23', '1.19.70.24', '1.19.70.26', '1.19.71', '1.19.80.20', '1.19.80.21', '1.19.80.23', '1.19.80.24', '1.20.0.20', '1.20.0.21']\n",
            "\n",
            "Escribe la versión que deseas descargar (en el formato 1.2.3): 1.20.0.21\n",
            "\n",
            "La URL final es: https://mcpedl.org/uploads_files/19-04-2023/minecraft-1-20-0-21.apk\n"
          ]
        }
      ]
    }
  ]
}